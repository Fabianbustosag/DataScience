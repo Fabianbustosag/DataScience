{
 "cells": [
  {
   "cell_type": "code",
   "execution_count": 3,
   "metadata": {},
   "outputs": [],
   "source": [
    "import cv2\n",
    "from pytesseract import *\n",
    "\n",
    "pytesseract.tesseract_cmd = r'C:\\\\Program Files\\\\Tesseract-OCR\\\\tesseract.exe'\n",
    "\n",
    "# Frase se demora en leer 0.6s\n",
    "# Boleta se demora en leer 1.0s\n",
    "\n"
   ]
  },
  {
   "cell_type": "markdown",
   "metadata": {},
   "source": [
    "### Lectura texto"
   ]
  },
  {
   "cell_type": "code",
   "execution_count": 4,
   "metadata": {},
   "outputs": [
    {
     "name": "stdout",
     "output_type": "stream",
     "text": [
      "<class 'str'>\n"
     ]
    }
   ],
   "source": [
    "# Cargar imagen\n",
    "# img = cv2.imread(r\"images\\\\frase.jpg\")\n",
    "img = cv2.imread(r\"images\\\\boleta.jpg\")\n",
    "\n",
    "# Convierte la imagen a escala de grises\n",
    "gray = cv2.cvtColor(img, cv2.COLOR_BGR2GRAY)\n",
    "# Aplicar umbral para convertir a imagen binaria\n",
    "threshold_img = cv2.threshold(gray, 0, 255, cv2.THRESH_BINARY + cv2.THRESH_OTSU)[1]\n",
    "# Pasa la imagen por pytesseract\n",
    "text = pytesseract.image_to_string(threshold_img)\n",
    "# Imprimir el texto extraído\n",
    "print(type(text))"
   ]
  },
  {
   "cell_type": "code",
   "execution_count": 6,
   "metadata": {},
   "outputs": [
    {
     "name": "stdout",
     "output_type": "stream",
     "text": [
      "7802225640779\n",
      "7802900401016\n",
      "\n",
      "7602900238322\n",
      "\n"
     ]
    }
   ],
   "source": [
    "img = cv2.imread(r\"images\\\\only_code.jpg\")\n",
    "\n",
    "# Convierte la imagen a escala de grises\n",
    "gray = cv2.cvtColor(img, cv2.COLOR_BGR2GRAY)\n",
    "# Aplicar umbral para convertir a imagen binaria\n",
    "threshold_img = cv2.threshold(gray, 0, 255, cv2.THRESH_BINARY + cv2.THRESH_OTSU)[1]\n",
    "# Pasa la imagen por pytesseract\n",
    "text = pytesseract.image_to_string(threshold_img)\n",
    "# Imprimir el texto extraído\n",
    "print(text)"
   ]
  },
  {
   "cell_type": "code",
   "execution_count": 8,
   "metadata": {},
   "outputs": [
    {
     "name": "stdout",
     "output_type": "stream",
     "text": [
      "ciclo 0 : 7802225640779\n",
      "ciclo 1 : 7802900401016\n",
      "ciclo 2 : \n",
      "ciclo 3 : 7602900238322\n"
     ]
    }
   ],
   "source": [
    "# Ejemplo de salida: \n",
    "# ciclo 0 : 7802225640779\n",
    "# ciclo 1 : 7802900401016\n",
    "# ciclo 2 : \n",
    "# ciclo 3 : 7602900238322\n",
    "\n",
    "lineas = text.splitlines()\n",
    "i = 0 \n",
    "# Iterar sobre cada línea e imprimir los números\n",
    "for linea in lineas:\n",
    "    numeros = linea.strip()  # Eliminar espacios en blanco al inicio y final, si los hubiera\n",
    "    # en cada iteracion da un numero\n",
    "    print(f'ciclo {i} : {numeros}')\n",
    "\n",
    "    i += 1"
   ]
  },
  {
   "cell_type": "markdown",
   "metadata": {},
   "source": [
    "### Limpieza de imagen"
   ]
  },
  {
   "cell_type": "code",
   "execution_count": 1,
   "metadata": {},
   "outputs": [
    {
     "name": "stdout",
     "output_type": "stream",
     "text": [
      "7802225640770\n"
     ]
    }
   ],
   "source": [
    "code_str = '7802225640770'\n",
    "code_int = int(code_str)\n",
    "print(code_int)\n",
    "\n",
    "#  en brands esta el nombre del producto\n",
    "# se necesita:\n",
    "# - el nombre\n",
    "# - categoria\n",
    "# - cantidad\n",
    "# - precio estimado\n"
   ]
  },
  {
   "cell_type": "markdown",
   "metadata": {},
   "source": []
  }
 ],
 "metadata": {
  "kernelspec": {
   "display_name": "env",
   "language": "python",
   "name": "python3"
  },
  "language_info": {
   "codemirror_mode": {
    "name": "ipython",
    "version": 3
   },
   "file_extension": ".py",
   "mimetype": "text/x-python",
   "name": "python",
   "nbconvert_exporter": "python",
   "pygments_lexer": "ipython3",
   "version": "3.12.1"
  }
 },
 "nbformat": 4,
 "nbformat_minor": 2
}
