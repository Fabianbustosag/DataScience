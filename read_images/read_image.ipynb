{
 "cells": [
  {
   "cell_type": "code",
   "execution_count": 3,
   "metadata": {},
   "outputs": [],
   "source": [
    "import cv2\n",
    "from pytesseract import *\n",
    "\n",
    "pytesseract.tesseract_cmd = r'C:\\\\Program Files\\\\Tesseract-OCR\\\\tesseract.exe'\n",
    "\n",
    "# Frase se demora en leer 0.6s\n",
    "# Boleta se demora en leer 1.0s\n",
    "\n"
   ]
  },
  {
   "cell_type": "markdown",
   "metadata": {},
   "source": [
    "### Lectura texto"
   ]
  },
  {
   "cell_type": "code",
   "execution_count": 6,
   "metadata": {},
   "outputs": [
    {
     "name": "stdout",
     "output_type": "stream",
     "text": [
      "UNIWARC HUALPENCILLO\n",
      "R.U,T.61.597.600-5\n",
      "Cag RENDIC HERMANOS S.A.\n",
      "4 Watriz: CERRO EL PLONG 5660 7-11\n",
      "6 CONCEPCION -CONCEPC ION\n",
      "TO: GRANDES ESTABLEC EMTENTOS (VENTA DE AL IFENTOS),\n",
      "5 HIPERWERCADOS\n",
      "UCUrsal: BULGARIA #2618, CONCEPCION\n",
      "Hie @ Ewision: 24/06/2024 Hora: 18:27 Trans: 726695\n",
      "Ocal: 249 Caja: 5  Noleta Electrinica: 1829464997\n",
      "\n",
      "CoDTéo DESC. ARTICULO VALOR\n",
      "CANT. /UNTDAD/PRECIO UNITARLO\n",
      "7802225640770 BALLETA BANDEJA 0 $1240\n",
      "*802900901016 MANJARA\"E SOPROLE $7640\n",
      "; 4x4 1 UN $710 c/u\n",
      "7802900258522 HEB LAC\"EA PACK UN $2230\n",
      "Club Uninare UNO $-240\n",
      "\n",
      "Teal $6070\n",
      "besglase dal Total:\n",
      "Heta S510:\n",
      "Iva Suey\n",
      "DETTE DE paGuS\n",
      "JUNAEB FOENRED $6070\n",
      "FOTAL PAGOS $6070\n",
      "AHORRG UNIMARL\n",
      "Shue tle ware “$240\n",
      "FOTAL GHORi fi? $240\n",
      "\n",
      "OVAL AHORRU ULTIMUS 22 MESES:\n",
      "$13010\n",
      "\n",
      "futal items: 9\n",
      "futal aiticulos vendidus: 6\n",
      "\n",
      "\n"
     ]
    }
   ],
   "source": [
    "# Cargar imagen\n",
    "# img = cv2.imread(r\"images\\\\frase.jpg\")\n",
    "img = cv2.imread(r\"images\\\\boleta.jpg\")\n",
    "\n",
    "# Convierte la imagen a escala de grises\n",
    "gray = cv2.cvtColor(img, cv2.COLOR_BGR2GRAY)\n",
    "# Aplicar umbral para convertir a imagen binaria\n",
    "threshold_img = cv2.threshold(gray, 0, 255, cv2.THRESH_BINARY + cv2.THRESH_OTSU)[1]\n",
    "# Pasa la imagen por pytesseract\n",
    "text = pytesseract.image_to_string(threshold_img)\n",
    "# Imprimir el texto extraído\n",
    "print(text)"
   ]
  },
  {
   "cell_type": "markdown",
   "metadata": {},
   "source": [
    "### Limpieza de imagen"
   ]
  },
  {
   "cell_type": "code",
   "execution_count": null,
   "metadata": {},
   "outputs": [],
   "source": []
  }
 ],
 "metadata": {
  "kernelspec": {
   "display_name": "env",
   "language": "python",
   "name": "python3"
  },
  "language_info": {
   "codemirror_mode": {
    "name": "ipython",
    "version": 3
   },
   "file_extension": ".py",
   "mimetype": "text/x-python",
   "name": "python",
   "nbconvert_exporter": "python",
   "pygments_lexer": "ipython3",
   "version": "3.12.1"
  }
 },
 "nbformat": 4,
 "nbformat_minor": 2
}
