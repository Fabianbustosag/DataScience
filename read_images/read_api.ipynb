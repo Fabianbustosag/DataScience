{
 "cells": [
  {
   "cell_type": "code",
   "execution_count": 4,
   "metadata": {},
   "outputs": [],
   "source": [
    "import requests\n",
    "import json\n",
    "\n",
    "def obtener_producto(codigo_barras):\n",
    "    # URL de la API con el código de barras\n",
    "    url = f'https://world.openfoodfacts.org/api/v3/product/{codigo_barras}.json'\n",
    "    \n",
    "    try:\n",
    "        # Hacer la petición GET a la API\n",
    "        response = requests.get(url)\n",
    "        # Verificar que la petición fue exitosa\n",
    "        response.raise_for_status()\n",
    "        \n",
    "        # Parsear la respuesta JSON\n",
    "        # data = response.json()\n",
    "        data = json.loads(response.content)\n",
    "        \n",
    "        brands = data['product']['brands']\n",
    "\n",
    "        print(brands) \n",
    "\n",
    "        return data\n",
    "\n",
    "    \n",
    "    except requests.exceptions.HTTPError as http_err:\n",
    "        return f\"HTTP error occurred: {http_err}\"\n",
    "    except Exception as err:\n",
    "        return f\"An error occurred: {err}\"\n",
    "\n",
    "# Usar la función con el código de barras proporcionado\n",
    "codigo_barras = '7602900238322'\n",
    "producto = obtener_producto(codigo_barras)"
   ]
  }
 ],
 "metadata": {
  "kernelspec": {
   "display_name": "env",
   "language": "python",
   "name": "python3"
  },
  "language_info": {
   "codemirror_mode": {
    "name": "ipython",
    "version": 3
   },
   "file_extension": ".py",
   "mimetype": "text/x-python",
   "name": "python",
   "nbconvert_exporter": "python",
   "pygments_lexer": "ipython3",
   "version": "3.12.1"
  }
 },
 "nbformat": 4,
 "nbformat_minor": 2
}
